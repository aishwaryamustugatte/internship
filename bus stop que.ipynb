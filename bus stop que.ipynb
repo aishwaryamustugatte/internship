{
 "cells": [
  {
   "cell_type": "code",
   "execution_count": 1,
   "id": "179cac3f-e5b6-4d50-985f-270e9552622b",
   "metadata": {},
   "outputs": [
    {
     "name": "stdin",
     "output_type": "stream",
     "text": [
      " 4\n",
      " 4\n",
      " 3\n",
      " 3\n",
      " 3\n",
      " 3\n"
     ]
    },
    {
     "name": "stdout",
     "output_type": "stream",
     "text": [
      "4\n"
     ]
    }
   ],
   "source": [
    "n=int(input().strip())\n",
    "m=int(input())\n",
    "list=[(int(input().strip())) for i in range (n)]\n",
    "sum=0\n",
    "auto=0\n",
    "for i in range(n):\n",
    "    if (sum+list[i]>m):\n",
    "        auto=auto+1\n",
    "        sum=list[i]\n",
    "    else:\n",
    "        sum=sum+list[i]\n",
    "if(sum>0):\n",
    "    auto=auto+1\n",
    "print(auto)\n",
    "        \n",
    "        "
   ]
  },
  {
   "cell_type": "code",
   "execution_count": null,
   "id": "c6e5b461-e97d-47b7-84e0-60f408955f6a",
   "metadata": {},
   "outputs": [],
   "source": [
    " QUESTION : A bus stop queue has n-gruops of people the ith gruop of from the beggning has a[i]numbers .\n",
    "every 30 minutes an empty bus arrives at the bus stop it can carry atmost m-people  naturally the people from the first group enter the first bus then goes peoples from the second gruop and so an note that the order of gruop the queue never wait for the next and join the other gruop.Now your task is to determine the number of buses needed to transport all n gruops of people\n",
    "Sample input:\n",
    "4\n",
    "3\n",
    "2\n",
    "3\n",
    "2\n",
    "1\n",
    "Sample output:\n",
    "3"
   ]
  }
 ],
 "metadata": {
  "kernelspec": {
   "display_name": "Python 3 (ipykernel)",
   "language": "python",
   "name": "python3"
  },
  "language_info": {
   "codemirror_mode": {
    "name": "ipython",
    "version": 3
   },
   "file_extension": ".py",
   "mimetype": "text/x-python",
   "name": "python",
   "nbconvert_exporter": "python",
   "pygments_lexer": "ipython3",
   "version": "3.11.7"
  }
 },
 "nbformat": 4,
 "nbformat_minor": 5
}
